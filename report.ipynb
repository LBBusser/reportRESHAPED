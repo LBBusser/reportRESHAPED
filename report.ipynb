{
 "cells": [
  {
   "cell_type": "markdown",
   "metadata": {},
   "source": [
    "## Setting up the environment"
   ]
  },
  {
   "cell_type": "code",
   "execution_count": 5,
   "metadata": {},
   "outputs": [
    {
     "name": "stdout",
     "output_type": "stream",
     "text": [
      "API Type: None\n",
      "API Version: None\n",
      "Endpoint URL: None\n"
     ]
    }
   ],
   "source": [
    "import os\n",
    "from dotenv import load_dotenv\n",
    "\n",
    "# Load the environment variables from the .env file\n",
    "load_dotenv()\n",
    "\n",
    "# Access the environment variables\n",
    "OPENAI_API_TYPE = os.getenv(\"OPENAI_API_TYPE\")\n",
    "OPENAI_API_VERSION = os.getenv(\"OPENAI_API_VERSION\")\n",
    "AZURE_OPENAI_ENDPOINT = os.getenv(\"AZURE_OPENAI_ENDPOINT\")\n",
    "AZURE_OPENAI_API_KEY = os.getenv(\"AZURE_OPENAI_API_KEY\")\n",
    "\n",
    "# Example usage of the loaded environment variables\n",
    "print(\"API Type:\", OPENAI_API_TYPE)\n",
    "print(\"API Version:\", OPENAI_API_VERSION)\n",
    "print(\"Endpoint URL:\", AZURE_OPENAI_ENDPOINT)\n",
    "# Avoid printing sensitive information like API keys.\n"
   ]
  },
  {
   "cell_type": "markdown",
   "metadata": {},
   "source": [
    "## Chatbot: Azure OpenAI\n",
    "\n",
    "The following block of code allows you to make a connection with the Azure OpenAI API. We are curious on the way you will solve the case. Good luck!"
   ]
  },
  {
   "cell_type": "code",
   "execution_count": 25,
   "metadata": {},
   "outputs": [],
   "source": [
    "import os\n",
    "from openai import AzureOpenAI\n",
    "\n",
    "client = AzureOpenAI(\n",
    "    azure_endpoint=\"https://oai-potential-hires.openai.azure.com/\",\n",
    "    api_key='4b523be726c842b09fdfb86b753dfb94',\n",
    "    api_version=\"2024-02-15-preview\"\n",
    ")\n",
    "\n",
    "# Define a prompt for the OpenAI Chat API\n",
    "prompt = \"\"\"\n",
    "Please tell me some key importants about data science\n",
    "\"\"\"\n",
    "\n",
    "messages=[\n",
    "        {\"role\": \"system\", \"content\": \"You are a helpful assistant.\"},\n",
    "        {\"role\": \"user\", \"content\": prompt}\n",
    "]\n",
    "\n",
    "completion = client.chat.completions.create(\n",
    "    model=\"gpt35PotentialHires\", \n",
    "    messages=messages,\n",
    "    temperature=0.7,\n",
    "    max_tokens=800,\n",
    "    top_p=0.95,\n",
    "    frequency_penalty=0,\n",
    "    presence_penalty=0,\n",
    "    stop=None\n",
    ")\n"
   ]
  },
  {
   "cell_type": "code",
   "execution_count": 29,
   "metadata": {},
   "outputs": [
    {
     "name": "stdout",
     "output_type": "stream",
     "text": [
      "Sure, here are some important aspects of data science:\n",
      "\n",
      "1. Data collection: Data science involves collecting data from various sources, including databases, APIs, social media platforms, and more.\n",
      "\n",
      "2. Data cleaning and preprocessing: Raw data often contains errors, outliers, missing values, and other issues that need to be addressed before analysis.\n",
      "\n",
      "3. Data analysis: Data science involves using statistical and machine learning techniques to identify patterns, relationships, and insights within the data.\n",
      "\n",
      "4. Data visualization: Communicating insights effectively often requires visualizing data in charts, graphs, and other visual formats.\n",
      "\n",
      "5. Machine learning: Data science involves using algorithms to build predictive models that can be used to make decisions or automate processes.\n",
      "\n",
      "6. Business acumen: Understanding business goals and objectives is essential to making data-driven decisions that drive business outcomes.\n",
      "\n",
      "7. Communication skills: Being able to explain complex technical concepts to non-technical stakeholders is crucial for success in data science.\n"
     ]
    }
   ],
   "source": [
    "print(completion.choices[0].message.content)"
   ]
  },
  {
   "cell_type": "code",
   "execution_count": 6,
   "metadata": {},
   "outputs": [],
   "source": [
    "os.environ[\"OPENAI_API_TYPE\"] = 'azure'\n",
    "os.environ[\"OPENAI_API_VERSION\"] = '2024-02-15-preview'\n",
    "os.environ[\"AZURE_OPENAI_ENDPOINT\"] = 'https://oai-potential-hires.openai.azure.com/'\n",
    "os.environ[\"AZURE_OPENAI_API_KEY\"] = '4b523be726c842b09fdfb86b753dfb94'"
   ]
  },
  {
   "cell_type": "markdown",
   "metadata": {},
   "source": [
    "## Optional: Use gradio for chatbot interface.\n",
    "\n",
    "This is not necessary, but nice to have for showing in a demo. For more check out: https://www.deeplearning.ai/short-courses/building-generative-ai-applications-with-gradio/"
   ]
  },
  {
   "cell_type": "code",
   "execution_count": 31,
   "metadata": {},
   "outputs": [
    {
     "name": "stderr",
     "output_type": "stream",
     "text": [
      "/Library/Frameworks/Python.framework/Versions/3.12/lib/python3.12/site-packages/tqdm/auto.py:21: TqdmWarning: IProgress not found. Please update jupyter and ipywidgets. See https://ipywidgets.readthedocs.io/en/stable/user_install.html\n",
      "  from .autonotebook import tqdm as notebook_tqdm\n"
     ]
    },
    {
     "name": "stdout",
     "output_type": "stream",
     "text": [
      "Running on local URL:  http://127.0.0.1:7861\n",
      "\n",
      "To create a public link, set `share=True` in `launch()`.\n"
     ]
    },
    {
     "data": {
      "text/html": [
       "<div><iframe src=\"http://127.0.0.1:7861/\" width=\"100%\" height=\"500\" allow=\"autoplay; camera; microphone; clipboard-read; clipboard-write;\" frameborder=\"0\" allowfullscreen></iframe></div>"
      ],
      "text/plain": [
       "<IPython.core.display.HTML object>"
      ]
     },
     "metadata": {},
     "output_type": "display_data"
    },
    {
     "data": {
      "text/plain": []
     },
     "execution_count": 31,
     "metadata": {},
     "output_type": "execute_result"
    }
   ],
   "source": [
    "import gradio as gr \n",
    "\n",
    "# Define a function that takes a string input and returns the model's response\n",
    "def chat_with_ai(text):\n",
    "    response = completion.choices[0].message.content\n",
    "    return response\n",
    "\n",
    "# Create a Gradio interface\n",
    "interface = gr.Interface(\n",
    "    fn=chat_with_ai,\n",
    "    inputs=\"text\",\n",
    "    outputs=\"text\",\n",
    "    title=\"Chat with AI\",\n",
    "    description=\"Enter your text to chat with the generative AI model.\"\n",
    ")\n",
    "\n",
    "# Launch the interface\n",
    "interface.launch()"
   ]
  },
  {
   "cell_type": "code",
   "execution_count": null,
   "metadata": {},
   "outputs": [],
   "source": []
  }
 ],
 "metadata": {
  "kernelspec": {
   "display_name": "Python 3",
   "language": "python",
   "name": "python3"
  },
  "language_info": {
   "codemirror_mode": {
    "name": "ipython",
    "version": 3
   },
   "file_extension": ".py",
   "mimetype": "text/x-python",
   "name": "python",
   "nbconvert_exporter": "python",
   "pygments_lexer": "ipython3",
   "version": "3.12.1"
  }
 },
 "nbformat": 4,
 "nbformat_minor": 2
}
